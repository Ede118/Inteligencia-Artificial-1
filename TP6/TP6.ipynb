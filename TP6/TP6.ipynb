{
 "cells": [
  {
   "cell_type": "markdown",
   "metadata": {
    "id": "Ds5tHU-5hZKV"
   },
   "source": [
    "# Temas Tratados en el Trabajo Práctico 6\n",
    "\n",
    "* Modelado de problemas en espacios de estado.\n",
    "\n",
    "* Algoritmos de planificación hacia adelante y hacia atrás.\n",
    "\n",
    "* Representación y solución de problemas descritos en lenguaje STRIPS.\n",
    "\n",
    "* Algoritmo GRAPHPLAN.\n",
    "\n",
    "* Planificación con restricciones de tiempo y recursos.\n",
    "\n",
    "* Caminos críticos y tiempos de relajación."
   ]
  },
  {
   "cell_type": "markdown",
   "metadata": {},
   "source": [
    "# Ejercicios Teóricos"
   ]
  },
  {
   "cell_type": "markdown",
   "metadata": {},
   "source": [
    "## 1. ¿En qué tipo de algoritmos se basa un planificador para encontrar el mejor camino a un estado solución?"
   ]
  },
  {
   "cell_type": "markdown",
   "metadata": {
    "vscode": {
     "languageId": "plaintext"
    }
   },
   "source": [
    "Para que un planificador encuentre el mejor camino a un estado solución, lo que hace en realidad es aplicar algoritmos de búsqueda en espacios de estados. \n",
    "\n",
    "Esto significa que no “razona” en abstracto, sino que explora las posibles configuraciones del mundo (los estados) y las transiciones entre ellos (las acciones) hasta construir una secuencia que conecte el estado inicial con el objetivo. \n",
    "\n",
    "En la práctica, el planificador se comporta como un agente que navega un grafo: cada nodo representa un estado y cada arista una acción disponible. La búsqueda puede ser más o menos inteligente dependiendo de la estrategia usada: si es ciega, prueba todos los caminos sin priorizar; si es informada, utiliza heurísticas para acercarse de manera más directa a la meta. Lo fundamental es que, a diferencia de ejecutar acciones al azar, el planificador construye un plan óptimo (o lo más óptimo posible) evaluando costos, restricciones y orden de las acciones antes de ejecutarlas.\n"
   ]
  },
  {
   "cell_type": "markdown",
   "metadata": {},
   "source": [
    "\n",
    "## 2. ¿Qué tres elementos se encuentran dentro de una acción formulada en lenguaje STRIPS? Describa brevemente qué función cumple cada uno."
   ]
  },
  {
   "cell_type": "markdown",
   "metadata": {},
   "source": [
    "STRIPS (Stanford Research Institute Problem Solver) define las acciones con:\n",
    "\n",
    "Precondiciones: lo que debe cumplirse en el estado actual para que la acción sea aplicable.\n",
    "\n",
    "Efectos: lo que cambia en el estado cuando se ejecuta la acción (agregar o eliminar condiciones).\n",
    "\n",
    "### Planificación hacia adelante (progresión)\n",
    "Empiezo desde el estado inicial y aplico acciones una tras otra hasta llegar al objetivo. El problema es que se consideran muchas acciones irrelevantes y eso lo hace poco eficiente.\n",
    "\n",
    "### Planificación hacia atrás (regresión)\n",
    "En vez de arrancar del inicio, parto del estado objetivo y busco qué acciones pudieron haberlo generado. Esto es más práctico porque me concentro en acciones relevantes y consistentes para llegar al objetivo.\n",
    "\n",
    "### Planificación parcialmente ordenada (POP)\n",
    "No obligo a un orden lineal de todas las acciones, sino que trabajo con sub-objetivos independientes y después los combino en un plan. Así se gana flexibilidad y se evitan pasos innecesarios."
   ]
  },
  {
   "cell_type": "markdown",
   "metadata": {},
   "source": [
    "## 3. Describa las ventajas y desventajas de desarrollar un algoritmo de planificación hacia adelante y hacia atrás en el espacio de estados.\n"
   ]
  },
  {
   "cell_type": "markdown",
   "metadata": {},
   "source": [
    "| **Criterio**         | **Planificación hacia adelante (progresión)**                                                                                     | **Planificación hacia atrás (regresión)**                                                                                                                                      |\n",
    "| -------------------- | --------------------------------------------------------------------------------------------------------------------------------- | ------------------------------------------------------------------------------------------------------------------------------------------------------------------------------ |\n",
    "| **Punto de partida** | Estado inicial                                                                                                                    | Estado objetivo                                                                                                                                                                |\n",
    "| **Ventajas**         | - Sencilla de implementar y entender.<br>- Siempre genera estados alcanzables.<br>- Imita la ejecución real de un agente.         | - Se centra en las condiciones del objetivo.<br>- Evita explorar muchos estados irrelevantes.<br>- Más eficiente cuando el objetivo está bien definido.                        |\n",
    "| **Desventajas**      | - Puede generar gran cantidad de estados irrelevantes.<br>- Ineficiente sin heurísticas.<br>- Puede perderse en espacios enormes. | - Difícil garantizar que las precondiciones regresadas sean alcanzables.<br>- Manejo complejo de condiciones negativas o dependencias.<br>- Menos intuitiva que la progresión. |\n"
   ]
  },
  {
   "cell_type": "markdown",
   "metadata": {},
   "source": [
    "## 4. Considere el problema de ponerse uno mismo zapatos y medias. Aplique GRAPHPLAN a este problema y muestre la solución obtenida. Muestre el plan de orden parcial que es solución e indique cuántas linealizaciones diferentes existen para el plan de orden parcial."
   ]
  },
  {
   "cell_type": "markdown",
   "metadata": {},
   "source": []
  },
  {
   "cell_type": "markdown",
   "metadata": {},
   "source": [
    "## 5. Se requiere ensamblar una máquina cuyas piezas están identificadas con las letras A, B, C, D y E. El tiempo que se tarda en ensamblar cada pieza es:\n",
    "\n",
    "* A: 2 semanas\n",
    "\n",
    "* B: 1 semana\n",
    "\n",
    "* C: 4 semanas\n",
    "\n",
    "* D: 3 semanas\n",
    "\n",
    "* E: 5 semanas\n",
    "\n",
    "    El orden de ensamblaje de cada pieza requiere que:\n",
    "\n",
    "* A esté realizado antes que C\n",
    "\n",
    "* B esté realizado antes que C\n",
    "\n",
    "* B esté realizado antes que D\n",
    "\n",
    "* C esté realizado antes que E\n",
    "\n",
    "* D esté realizado antes que E\n",
    "\n",
    "    Con esta información:"
   ]
  },
  {
   "cell_type": "markdown",
   "metadata": {},
   "source": [
    "### 5.1 Arme el Plan de Orden Parcial."
   ]
  },
  {
   "cell_type": "markdown",
   "metadata": {},
   "source": [
    "![alt text](Imagenes/TP6E5_1.png)"
   ]
  },
  {
   "cell_type": "markdown",
   "metadata": {},
   "source": [
    "### 5.2 Encuentre el Camino Crítico."
   ]
  },
  {
   "cell_type": "markdown",
   "metadata": {},
   "source": [
    "##### **Camino crítico**\n",
    "\n",
    "El camino crítico en planificación es la secuencia de acciones más larga y restrictiva dentro del plan, la que determina la duración mínima necesaria para llegar al estado objetivo.\n",
    "\n",
    "El camino crítico será la rama que no puede comprimirse, es decir, aquella secuencia de pasos encadenados que fija el tiempo mínimo total.\n",
    "\n",
    "En este caso:\n",
    "\n",
    "$\\text{Inicio} \\ \\to \\ A \\ \\to \\ C \\ \\to \\ D \\ \\to \\ \\text{Fin}$\n",
    "\n",
    "Duración total del proyecto: **11 semanas**.\n"
   ]
  },
  {
   "cell_type": "markdown",
   "metadata": {},
   "source": [
    "### 5.3 Encuentre los tiempos de relajación.\n"
   ]
  },
  {
   "cell_type": "markdown",
   "metadata": {},
   "source": [
    "##### Tiempos de relajación u «Holguras»\n",
    "\n",
    "* Holgura total (o relajación total): es el tiempo que una tarea puede retrasarse sin afectar la duración total del proyecto (o sea, sin retrasar la fecha de finalización).\n",
    "\n",
    "* Holgura libre (o relajación libre): es el tiempo que una tarea puede retrasarse sin afectar la fecha de inicio de la siguiente tarea inmediata.\n",
    "\n",
    "##### ¿Cómo se calculan?\n",
    "\n",
    "* Hacia adelante (forward pass): se obtienen los tiempos más tempranos (ES = Early Start, EF = Early Finish).\n",
    "\n",
    "* Hacia atrás (backward pass): se obtienen los tiempos más tardíos (LS = Late Start, LF = Late Finish).\n",
    "\n",
    "* Holgura total:\n",
    "\n",
    "$$HT=LS−ES=LF−EF$$\n",
    "\n",
    "* Holgura libre:\n",
    "\n",
    "$$HL=min⁡(ES_{\\text{sucesores}})−EF$$\n",
    "\n",
    "##### Interpretación\n",
    "\n",
    "Las tareas en el camino crítico tienen holgura cero: no hay margen de relajación, si se retrasan el proyecto entero se retrasa.\n",
    "\n",
    "Las tareas fuera del camino crítico sí tienen holgura: pueden “relajarse” unos días sin consecuencias graves para la fecha final.\n",
    "\n",
    "##### Cálculo rápido (ES/EF y holguras)\n",
    "\n",
    "| Tarea | Predecesoras | Duración | ES | EF | LS | LF | Holgura |\n",
    "| ----- | ------------ | -------: | -: | -: | -: | -: | ------: |\n",
    "| A     | —            |        2 |  0 |  2 |  0 |  2 |   **0** |\n",
    "| B     | —            |        1 |  0 |  1 |  1 |  2 |       1 |\n",
    "| C     | A, B         |        4 |  2 |  6 |  2 |  6 |   **0** |\n",
    "| D     | B            |        3 |  1 |  4 |  3 |  6 |       2 |\n",
    "| E     | C, D         |        5 |  6 | 11 |  6 | 11 |   **0** |\n",
    "\n",
    "* **ES/EF**: avance hacia adelante.\n",
    "\n",
    "  * C empieza cuando están A y B: `ES_C = max(EF_A=2, EF_B=1) = 2`.\n",
    "  * D empieza tras B: `ES_D = EF_B = 1`.\n",
    "  * E empieza cuando están C y D: `ES_E = max(EF_C=6, EF_D=4) = 6`.\n",
    "\n",
    "* **LS/LF**: retroceso desde el final (11).\n",
    "\n",
    "  * `LF_E=11 → LS_E=6`;\n",
    "  * `LF_C = LS_E = 6 → LS_C=2`;\n",
    "  * `LF_D = LS_E = 6 → LS_D=3`;\n",
    "  * Para B, que alimenta C y D: `LF_B = min(LS_C=2, LS_D=3) = 2 → LS_B=1`;\n",
    "  * Para A: `LF_A = LS_C = 2 → LS_A=0`.\n",
    "\n",
    "La rama con D termina en la semana 4, pero E no puede empezar hasta que **C** termine en 6, así que D acumula **holgura 2**. Lo mismo B tiene **holgura 1** antes de C. Las tareas con holgura cero (A, C, E) definen el **camino crítico**."
   ]
  },
  {
   "cell_type": "markdown",
   "metadata": {},
   "source": [
    "### 5.4 Dibuje un diagrama temporal indicando las tareas y los tiempos de relajación encontrados."
   ]
  },
  {
   "cell_type": "markdown",
   "metadata": {},
   "source": [
    "![alt text](Imagenes/TP6E5_4.png)"
   ]
  },
  {
   "cell_type": "markdown",
   "metadata": {},
   "source": [
    "# Ejercicios de Implementación"
   ]
  },
  {
   "cell_type": "markdown",
   "metadata": {},
   "source": [
    "sa"
   ]
  },
  {
   "cell_type": "markdown",
   "metadata": {},
   "source": [
    "## 6. Suponga que tiene un robot de oficina capaz de moverse y tomar y depositar objetos. El robot solo puede tener un objeto a la vez, pero puede conseguir una *caja* en la que depositar varios objetos. Suponga que programa al robot para *ir a la tienda* a comprarle un *café* y en el camino de vuelta tome una *carta* del *buzón* de la oficina para para que se la traiga junto con el café. Describa en lenguaje STRIPS:\n"
   ]
  },
  {
   "cell_type": "markdown",
   "metadata": {},
   "source": [
    "### 6.1 El dominio del robot (nombre, predicados y acciones que puede hacer el robot)."
   ]
  },
  {
   "cell_type": "code",
   "execution_count": null,
   "metadata": {
    "vscode": {
     "languageId": "plaintext"
    }
   },
   "outputs": [],
   "source": []
  },
  {
   "cell_type": "markdown",
   "metadata": {},
   "source": [
    "### 6.2 El problema que se quiere resolver (estado inicial, estado objetivo y objetos del mundo representados).\n"
   ]
  },
  {
   "cell_type": "markdown",
   "metadata": {},
   "source": []
  },
  {
   "cell_type": "markdown",
   "metadata": {},
   "source": [
    "### 6.3 Introduzca el código desarrollado en los puntos anteriores en el [planificador online](http://lcas.lincoln.ac.uk/fast-downward/) y obtenga el plan de acción que tomará el robot para cumplir lo solicitado."
   ]
  },
  {
   "cell_type": "markdown",
   "metadata": {},
   "source": []
  },
  {
   "cell_type": "markdown",
   "metadata": {},
   "source": [
    "\n",
    "# Bibliografía\n",
    "\n",
    "[Russell, S. & Norvig, P. (2004) _Inteligencia Artificial: Un Enfoque Moderno_. Pearson Educación S.A. (2a Ed.) Madrid, España](https://www.academia.edu/8241613/Inteligencia_Aritificial_Un_Enfoque_Moderno_2da_Edici%C3%B3n_Stuart_J_Russell_y_Peter_Norvig)\n",
    "\n",
    "[Poole, D. & Mackworth, A. (2023) _Artificial Intelligence: Foundations of Computational Agents_. Cambridge University Press (3a Ed.) Vancouver, Canada](https://artint.info/3e/html/ArtInt3e.html)"
   ]
  }
 ],
 "metadata": {
  "colab": {
   "authorship_tag": "ABX9TyNkaY83TIo2vj0VLym+xt9a",
   "provenance": []
  },
  "kernelspec": {
   "display_name": "Python 3",
   "name": "python3"
  },
  "language_info": {
   "name": "python"
  }
 },
 "nbformat": 4,
 "nbformat_minor": 0
}
