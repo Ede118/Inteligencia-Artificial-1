{
  "cells": [
    {
      "attachments": {},
      "cell_type": "markdown",
      "metadata": {
        "id": "jWUX78DM7n9T"
      },
      "source": [
        "# Temas Tratados en el Trabajo Práctico 1\n",
        "\n",
        "* Diferencia entre Inteligencia e Inteligencia Artificial.\n",
        "\n",
        "* Concepto de omnisciencia, aprendizaje y autonomía.\n",
        "\n",
        "* Definición de Agente y sus características. Clasificación de Agentes según su estructura.\n",
        "\n",
        "* Identificación y categorización del Entorno de Trabajo en tabla REAS.\n",
        "\n",
        "* Caracterización del Entorno de Trabajo.\n",
        "\n",
        "# Anotaciones\n",
        "\n",
        "\"Acordarse de la definición de agente\""
      ]
    },
    {
      "cell_type": "markdown",
      "metadata": {},
      "source": [
        "# Ejercicios Teóricos\n",
        "\n",
        "1. Defina con sus propias palabras inteligencia natural, inteligencia artificial y agente."
      ]
    },
    {
      "cell_type": "markdown",
      "metadata": {},
      "source": [
        "- Inteligencia natural: Es la inteligencia que tiene naturalmente el ser humano, animales y seres vivos las cuales son otorgadas por la naturaleza y nos da la capacidad de aprender, razonar, resolver problemas y adaptarnos a nuestro entorno.\n",
        "\n",
        "- Inteligencia artificial: Es la inteligencia desarrollada en maquinas o programas las cuales pueden realizar tareas que normalmente requieren ser realizadas por humanos, estos son capaces de aprender, razonar y adaptarse al entorno.\n",
        "\n",
        "- Agente: Es una entidad natural o artificial que percibe su entorno y actua de manera autonoma para lograr el resultado para el que fue creado."
      ]
    },
    {
      "cell_type": "markdown",
      "metadata": {},
      "source": [
        "\n",
        "2. ¿Qué es un agente racional?"
      ]
    },
    {
      "cell_type": "markdown",
      "metadata": {},
      "source": [
        "- Un agente racional es una entidad que percibe su entorno y actua de manera que maximiza su rendimiento utilizando los sensores que posee para tomar las decisiones mas optimas."
      ]
    },
    {
      "cell_type": "markdown",
      "metadata": {},
      "source": [
        "3. ¿Un agente es siempre una computadora?"
      ]
    },
    {
      "cell_type": "markdown",
      "metadata": {},
      "source": [
        "- No, un agente no siempre es una computadora existen tambien agentes organicos como proteinas creadas para combatir enfermedades o agentes mecanicos muy simples como el ejemplo del apagador de velas."
      ]
    },
    {
      "cell_type": "markdown",
      "metadata": {},
      "source": [
        "4. Defina Omnisciencia, Aprendizaje y Autonomía."
      ]
    },
    {
      "cell_type": "markdown",
      "metadata": {},
      "source": [
        "- Omnisciencia: Es la capacidad de un agente de conocer el estado actual completo de su entorno en todo momento, es aquel que tiene acceso a toda la informacion del entorno a pesar de que pueda cumplir con su tarea sin toda esa infromacion.\n",
        "\n",
        "- Aprendizaje: Es la capacidad de un agente de mejorar su rendimiento y adaptar sus acciones a lo largo del tiempo, lo cual hace que pueda modificar sus decisiones basandose en experiencias previas.\n",
        "\n",
        "- Autonomia: Es la capacidad de un agente de operar independientemente sin la intervencion o control humano directo, tomando sus propias decisiones y acciones."
      ]
    },
    {
      "cell_type": "markdown",
      "metadata": {},
      "source": [
        "5. Defina cada tipo de agente en función de su **estructura** y dé un ejemplo de cada categoría."
      ]
    },
    {
      "cell_type": "markdown",
      "metadata": {},
      "source": [
        "Las diferentes estructuras que podemos modelar para los agentes son:\n",
        "\n",
        "* Agente Reactivo Simple: <p></p>\n",
        "    \n",
        "    <p style=\"margin-left: 40px;\">\n",
        "    El agente reactivo simple, como su nombre lo indica, es una estructura primitiva que funciona de manera sencilla: el sensor toma lecturas del entorno, analiza \"¿cómo es el mundo ahora?\" y con esa información, junto con las \"reglas de condición-acción\" con las que fue creado, define que acción debe tomar para modificar el entorno y realiza la acción mediante actuadores.\n",
        "    </p>\n",
        "\n",
        "    <p style=\"margin-left: 40px;\">\n",
        "    Un ejemplo de este tipo de agentes es \n",
        "    </p>\n",
        "\n",
        "* Agente Reactivo Basado en Modelos\n",
        "    \n",
        "    <p style=\"margin-left: 40px;\">\n",
        "    El agente reactivo basado en modelos tambíen cuenta con sensores que permite leer cúal es el estado del entorno actual, pero la información obtenida es almacenada y utilizada para mantener un seguimiento del entorno que no es evidente con la percepción instante a instante. Teniendo en cuenta tanto el modelo del entorno como los parámetros sensados, se refiere a las reglas \"condición-acción\", se determina que acción tomar y finalmente se acciona con los actuadores.\n",
        "    </p>\n",
        "\n",
        "    <p style=\"margin-left: 40px;\">\n",
        "    Un ejemplo de este tipo de agentes es \n",
        "    </p>\n",
        "\n",
        "* Agente Basados en Objetivos\n",
        "    \n",
        "    <p style=\"margin-left: 40px;\">\n",
        "    El agente basado en objetivos agrega con respecto al agente basado en modelos un bloque que analiza las acciones posibles y elije cualquier acción que permita llegar a una meta predeterminada.\n",
        "    </p>\n",
        "\n",
        "    <p style=\"margin-left: 40px;\">\n",
        "    Un ejemplo de este tipo de agentes es \n",
        "    </p>\n",
        "\n",
        "* Agente Basado en Utilidad\n",
        "    \n",
        "    <p style=\"margin-left: 40px;\">\n",
        "    El agente basado en utilidad\n",
        "    </p>\n",
        "\n",
        "    <p style=\"margin-left: 40px;\">\n",
        "    Un ejemplo de este tipo de agentes es \n",
        "    </p>\n",
        "\n",
        "* Agentes que Aprenden\n",
        "    \n",
        "    <p style=\"margin-left: 40px;\">\n",
        "    El agente que aprende\n",
        "    </p>\n",
        "\n",
        "    <p style=\"margin-left: 40px;\">\n",
        "    Un ejemplo de este tipo de agentes es \n",
        "    </p>\n",
        "\n"
      ]
    },
    {
      "cell_type": "markdown",
      "metadata": {},
      "source": [
        "6. Para los siguientes entornos de trabajo indique sus **propiedades**:\n",
        "\n",
        "        a. Una partida de ajedrez.\n",
        "\n",
        "        b. Un partido de baloncesto.\n",
        "\n",
        "        c. El juego Pacman.\n",
        "\n",
        "        d. El truco.\n",
        "\n",
        "        e. Las damas.\n",
        "\n",
        "        f. El juego tres en raya.\n",
        "\n",
        "        g. Un jugador de Pokémon Go.\n",
        "\n",
        "        h. Un robot explorador autónomo de Marte."
      ]
    },
    {
      "cell_type": "markdown",
      "metadata": {},
      "source": []
    },
    {
      "cell_type": "markdown",
      "metadata": {},
      "source": [
        "7. Elabore una tabla REAS para los siguientes entornos de trabajo:\n",
        "\n",
        "        a. Crucigrama.\n",
        "\n",
        "        b. Taxi circulando.\n",
        "\n",
        "        c. Robot clasificador de piezas."
      ]
    },
    {
      "cell_type": "markdown",
      "metadata": {},
      "source": []
    },
    {
      "cell_type": "markdown",
      "metadata": {},
      "source": [
        "# Ejercicios Prácticos\n",
        "\n",
        "8. La Hormiga de Langton es un agente capaz de modificar el estado de la casilla en la que se encuentra para colorearla o bien de blanco o de negro. Al comenzar, la ubicación de la hormiga es una casilla aleatoria y mira hacia una de las cuatro casillas adyacentes. Si...\n",
        "\n",
        "* ... la casilla sobre la que está es blanca, cambia el color del cuadrado, gira noventa grados a la derecha y avanza un cuadrado.\n",
        "\n",
        "* ... la casilla sobre la que está es negra, cambia el color del cuadrado, gira noventa grados a la izquierda y avanza un cuadrado.\n",
        "\n",
        "    Caracterice el agente con su tabla REAS y las propiedades del entorno para después programarlo en Python:\n",
        "\n",
        "    ¿Observa que se repite algún patrón? De ser así, ¿a partir de qué iteración?"
      ]
    },
    {
      "cell_type": "code",
      "execution_count": null,
      "metadata": {
        "vscode": {
          "languageId": "plaintext"
        }
      },
      "outputs": [],
      "source": []
    },
    {
      "cell_type": "markdown",
      "metadata": {},
      "source": [
        "9. El Juego de la Vida de Conway consiste en un tablero donde cada casilla representa una célula, de manera que a cada célula le rodean 8 vecinas. Las células tienen dos estados: están *vivas* o *muertas*. En cada iteración, el estado de todas las células se tiene en cuenta para calcular el estado siguiente en simultáneo de acuerdo a las siguientes acciones:\n",
        "\n",
        "* Nacer: Si una célula muerta tiene exactamente 3 células vecinas vivas, dicha célula pasa a estar viva.\n",
        "\n",
        "* Morir: Una célula viva puede morir sobrepoblación cuando tiene más de tres vecinos alrededor o por aislamiento si tiene solo un vecino o ninguno.\n",
        "\n",
        "* Vivir: una célula se mantiene viva si tiene 2 o 3 vecinos a su alrededor.\n",
        "\n",
        "    Caracterice el agente con su tabla REAS y las propiedades del entorno para después programarlo en Python:"
      ]
    },
    {
      "cell_type": "code",
      "execution_count": null,
      "metadata": {
        "vscode": {
          "languageId": "plaintext"
        }
      },
      "outputs": [],
      "source": []
    },
    {
      "attachments": {},
      "cell_type": "markdown",
      "metadata": {
        "id": "oXcAF__NmgG5"
      },
      "source": [
        "# Bibliografía\n",
        "\n",
        "[Russell, S. & Norvig, P. (2004) _Inteligencia Artificial: Un Enfoque Moderno_. Pearson Educación S.A. (2a Ed.) Madrid, España](https://www.academia.edu/8241613/Inteligencia_Aritificial_Un_Enfoque_Moderno_2da_Edici%C3%B3n_Stuart_J_Russell_y_Peter_Norvig)\n",
        "\n",
        "[Poole, D. & Mackworth, A. (2023) _Artificial Intelligence: Foundations of Computational Agents_. Cambridge University Press (3a Ed.) Vancouver, Canada](https://artint.info/3e/html/ArtInt3e.html)"
      ]
    }
  ],
  "metadata": {
    "colab": {
      "provenance": []
    },
    "kernelspec": {
      "display_name": "Python 3",
      "name": "python3"
    },
    "language_info": {
      "name": "python"
    }
  },
  "nbformat": 4,
  "nbformat_minor": 0
}
